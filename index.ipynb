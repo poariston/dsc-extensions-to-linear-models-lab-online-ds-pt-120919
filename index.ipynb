{
 "cells": [
  {
   "cell_type": "markdown",
   "metadata": {},
   "source": [
    "# Extensions to Linear Models - Lab"
   ]
  },
  {
   "cell_type": "markdown",
   "metadata": {},
   "source": [
    "## Introduction\n",
    "\n",
    "In this lab, you'll practice many concepts you have learned so far, from adding interactions and polynomials to your model to AIC and BIC!"
   ]
  },
  {
   "cell_type": "markdown",
   "metadata": {},
   "source": [
    "## Summary\n",
    "\n",
    "You will be able to:\n",
    "- Build a linear regression model with interactions and polynomial features \n",
    "- Use AIC and BIC to select the best value for the regularization parameter \n"
   ]
  },
  {
   "cell_type": "markdown",
   "metadata": {},
   "source": [
    "## Let's get started!"
   ]
  },
  {
   "cell_type": "markdown",
   "metadata": {},
   "source": [
    "Import all the necessary packages."
   ]
  },
  {
   "cell_type": "code",
   "execution_count": 2,
   "metadata": {},
   "outputs": [],
   "source": [
    "import pandas as pd\n",
    "import numpy as np\n",
    "import matplotlib.pyplot as plt\n",
    "import warnings\n",
    "warnings.filterwarnings('ignore')\n",
    "\n",
    "from sklearn.linear_model import LinearRegression\n",
    "from sklearn.model_selection import cross_val_score\n",
    "from sklearn.model_selection import KFold\n",
    "from sklearn.preprocessing import scale\n",
    "\n",
    "from sklearn.datasets import load_boston"
   ]
  },
  {
   "cell_type": "markdown",
   "metadata": {},
   "source": [
    "## Look at a baseline boston housing data model"
   ]
  },
  {
   "cell_type": "markdown",
   "metadata": {},
   "source": [
    "- Import the Boston housing dataset \n",
    "- Split the data into target (`y`) and predictors (`X`) -- ensure these both are DataFrames \n",
    "- Scale all the predictors using `scale`. Convert these scaled features into a DataFrame \n",
    "- Build at a baseline model using *scaled variables* as predictors. Use 5-fold cross-validation (set `random_state` to 1) and use the $R^2$ score to evaluate the model "
   ]
  },
  {
   "cell_type": "code",
   "execution_count": 3,
   "metadata": {},
   "outputs": [],
   "source": [
    "# Your code here\n",
    "boston=load_boston()\n",
    "y = pd.DataFrame(boston.target, columns=['target'])\n",
    "X = pd.DataFrame(boston.data, columns=boston.feature_names)"
   ]
  },
  {
   "cell_type": "code",
   "execution_count": 4,
   "metadata": {},
   "outputs": [
    {
     "data": {
      "text/plain": [
       "dict_keys(['data', 'target', 'feature_names', 'DESCR', 'filename'])"
      ]
     },
     "execution_count": 4,
     "metadata": {},
     "output_type": "execute_result"
    }
   ],
   "source": [
    "boston.keys()"
   ]
  },
  {
   "cell_type": "code",
   "execution_count": 5,
   "metadata": {},
   "outputs": [
    {
     "data": {
      "text/plain": [
       "((506, 13), (506, 1))"
      ]
     },
     "execution_count": 5,
     "metadata": {},
     "output_type": "execute_result"
    }
   ],
   "source": [
    "X.shape, y.shape"
   ]
  },
  {
   "cell_type": "code",
   "execution_count": 6,
   "metadata": {},
   "outputs": [
    {
     "data": {
      "text/plain": [
       "Index(['CRIM', 'ZN', 'INDUS', 'CHAS', 'NOX', 'RM', 'AGE', 'DIS', 'RAD', 'TAX',\n",
       "       'PTRATIO', 'B', 'LSTAT'],\n",
       "      dtype='object')"
      ]
     },
     "execution_count": 6,
     "metadata": {},
     "output_type": "execute_result"
    }
   ],
   "source": [
    "X.columns"
   ]
  },
  {
   "cell_type": "code",
   "execution_count": 7,
   "metadata": {},
   "outputs": [
    {
     "data": {
      "text/plain": [
       "CRIM       float64\n",
       "ZN         float64\n",
       "INDUS      float64\n",
       "CHAS       float64\n",
       "NOX        float64\n",
       "RM         float64\n",
       "AGE        float64\n",
       "DIS        float64\n",
       "RAD        float64\n",
       "TAX        float64\n",
       "PTRATIO    float64\n",
       "B          float64\n",
       "LSTAT      float64\n",
       "dtype: object"
      ]
     },
     "execution_count": 7,
     "metadata": {},
     "output_type": "execute_result"
    }
   ],
   "source": [
    "X.dtypes"
   ]
  },
  {
   "cell_type": "code",
   "execution_count": 8,
   "metadata": {},
   "outputs": [
    {
     "name": "stdout",
     "output_type": "stream",
     "text": [
      "<class 'pandas.core.frame.DataFrame'>\n",
      "RangeIndex: 506 entries, 0 to 505\n",
      "Data columns (total 13 columns):\n",
      "CRIM       506 non-null float64\n",
      "ZN         506 non-null float64\n",
      "INDUS      506 non-null float64\n",
      "CHAS       506 non-null float64\n",
      "NOX        506 non-null float64\n",
      "RM         506 non-null float64\n",
      "AGE        506 non-null float64\n",
      "DIS        506 non-null float64\n",
      "RAD        506 non-null float64\n",
      "TAX        506 non-null float64\n",
      "PTRATIO    506 non-null float64\n",
      "B          506 non-null float64\n",
      "LSTAT      506 non-null float64\n",
      "dtypes: float64(13)\n",
      "memory usage: 51.5 KB\n"
     ]
    }
   ],
   "source": [
    "X.info()"
   ]
  },
  {
   "cell_type": "code",
   "execution_count": 9,
   "metadata": {},
   "outputs": [],
   "source": [
    "Xscaled=scale(X)"
   ]
  },
  {
   "cell_type": "code",
   "execution_count": 10,
   "metadata": {},
   "outputs": [
    {
     "data": {
      "text/plain": [
       "numpy.ndarray"
      ]
     },
     "execution_count": 10,
     "metadata": {},
     "output_type": "execute_result"
    }
   ],
   "source": [
    "type(Xscaled)"
   ]
  },
  {
   "cell_type": "code",
   "execution_count": 11,
   "metadata": {},
   "outputs": [],
   "source": [
    "Xscaled_df=pd.DataFrame(Xscaled,columns=X.columns)"
   ]
  },
  {
   "cell_type": "code",
   "execution_count": 12,
   "metadata": {},
   "outputs": [
    {
     "data": {
      "text/html": [
       "<div>\n",
       "<style scoped>\n",
       "    .dataframe tbody tr th:only-of-type {\n",
       "        vertical-align: middle;\n",
       "    }\n",
       "\n",
       "    .dataframe tbody tr th {\n",
       "        vertical-align: top;\n",
       "    }\n",
       "\n",
       "    .dataframe thead th {\n",
       "        text-align: right;\n",
       "    }\n",
       "</style>\n",
       "<table border=\"1\" class=\"dataframe\">\n",
       "  <thead>\n",
       "    <tr style=\"text-align: right;\">\n",
       "      <th></th>\n",
       "      <th>CRIM</th>\n",
       "      <th>ZN</th>\n",
       "      <th>INDUS</th>\n",
       "      <th>CHAS</th>\n",
       "      <th>NOX</th>\n",
       "      <th>RM</th>\n",
       "      <th>AGE</th>\n",
       "      <th>DIS</th>\n",
       "      <th>RAD</th>\n",
       "      <th>TAX</th>\n",
       "      <th>PTRATIO</th>\n",
       "      <th>B</th>\n",
       "      <th>LSTAT</th>\n",
       "    </tr>\n",
       "  </thead>\n",
       "  <tbody>\n",
       "    <tr>\n",
       "      <th>0</th>\n",
       "      <td>-0.419782</td>\n",
       "      <td>0.284830</td>\n",
       "      <td>-1.287909</td>\n",
       "      <td>-0.272599</td>\n",
       "      <td>-0.144217</td>\n",
       "      <td>0.413672</td>\n",
       "      <td>-0.120013</td>\n",
       "      <td>0.140214</td>\n",
       "      <td>-0.982843</td>\n",
       "      <td>-0.666608</td>\n",
       "      <td>-1.459000</td>\n",
       "      <td>0.441052</td>\n",
       "      <td>-1.075562</td>\n",
       "    </tr>\n",
       "    <tr>\n",
       "      <th>1</th>\n",
       "      <td>-0.417339</td>\n",
       "      <td>-0.487722</td>\n",
       "      <td>-0.593381</td>\n",
       "      <td>-0.272599</td>\n",
       "      <td>-0.740262</td>\n",
       "      <td>0.194274</td>\n",
       "      <td>0.367166</td>\n",
       "      <td>0.557160</td>\n",
       "      <td>-0.867883</td>\n",
       "      <td>-0.987329</td>\n",
       "      <td>-0.303094</td>\n",
       "      <td>0.441052</td>\n",
       "      <td>-0.492439</td>\n",
       "    </tr>\n",
       "    <tr>\n",
       "      <th>2</th>\n",
       "      <td>-0.417342</td>\n",
       "      <td>-0.487722</td>\n",
       "      <td>-0.593381</td>\n",
       "      <td>-0.272599</td>\n",
       "      <td>-0.740262</td>\n",
       "      <td>1.282714</td>\n",
       "      <td>-0.265812</td>\n",
       "      <td>0.557160</td>\n",
       "      <td>-0.867883</td>\n",
       "      <td>-0.987329</td>\n",
       "      <td>-0.303094</td>\n",
       "      <td>0.396427</td>\n",
       "      <td>-1.208727</td>\n",
       "    </tr>\n",
       "    <tr>\n",
       "      <th>3</th>\n",
       "      <td>-0.416750</td>\n",
       "      <td>-0.487722</td>\n",
       "      <td>-1.306878</td>\n",
       "      <td>-0.272599</td>\n",
       "      <td>-0.835284</td>\n",
       "      <td>1.016303</td>\n",
       "      <td>-0.809889</td>\n",
       "      <td>1.077737</td>\n",
       "      <td>-0.752922</td>\n",
       "      <td>-1.106115</td>\n",
       "      <td>0.113032</td>\n",
       "      <td>0.416163</td>\n",
       "      <td>-1.361517</td>\n",
       "    </tr>\n",
       "    <tr>\n",
       "      <th>4</th>\n",
       "      <td>-0.412482</td>\n",
       "      <td>-0.487722</td>\n",
       "      <td>-1.306878</td>\n",
       "      <td>-0.272599</td>\n",
       "      <td>-0.835284</td>\n",
       "      <td>1.228577</td>\n",
       "      <td>-0.511180</td>\n",
       "      <td>1.077737</td>\n",
       "      <td>-0.752922</td>\n",
       "      <td>-1.106115</td>\n",
       "      <td>0.113032</td>\n",
       "      <td>0.441052</td>\n",
       "      <td>-1.026501</td>\n",
       "    </tr>\n",
       "    <tr>\n",
       "      <th>...</th>\n",
       "      <td>...</td>\n",
       "      <td>...</td>\n",
       "      <td>...</td>\n",
       "      <td>...</td>\n",
       "      <td>...</td>\n",
       "      <td>...</td>\n",
       "      <td>...</td>\n",
       "      <td>...</td>\n",
       "      <td>...</td>\n",
       "      <td>...</td>\n",
       "      <td>...</td>\n",
       "      <td>...</td>\n",
       "      <td>...</td>\n",
       "    </tr>\n",
       "    <tr>\n",
       "      <th>501</th>\n",
       "      <td>-0.413229</td>\n",
       "      <td>-0.487722</td>\n",
       "      <td>0.115738</td>\n",
       "      <td>-0.272599</td>\n",
       "      <td>0.158124</td>\n",
       "      <td>0.439316</td>\n",
       "      <td>0.018673</td>\n",
       "      <td>-0.625796</td>\n",
       "      <td>-0.982843</td>\n",
       "      <td>-0.803212</td>\n",
       "      <td>1.176466</td>\n",
       "      <td>0.387217</td>\n",
       "      <td>-0.418147</td>\n",
       "    </tr>\n",
       "    <tr>\n",
       "      <th>502</th>\n",
       "      <td>-0.415249</td>\n",
       "      <td>-0.487722</td>\n",
       "      <td>0.115738</td>\n",
       "      <td>-0.272599</td>\n",
       "      <td>0.158124</td>\n",
       "      <td>-0.234548</td>\n",
       "      <td>0.288933</td>\n",
       "      <td>-0.716639</td>\n",
       "      <td>-0.982843</td>\n",
       "      <td>-0.803212</td>\n",
       "      <td>1.176466</td>\n",
       "      <td>0.441052</td>\n",
       "      <td>-0.500850</td>\n",
       "    </tr>\n",
       "    <tr>\n",
       "      <th>503</th>\n",
       "      <td>-0.413447</td>\n",
       "      <td>-0.487722</td>\n",
       "      <td>0.115738</td>\n",
       "      <td>-0.272599</td>\n",
       "      <td>0.158124</td>\n",
       "      <td>0.984960</td>\n",
       "      <td>0.797449</td>\n",
       "      <td>-0.773684</td>\n",
       "      <td>-0.982843</td>\n",
       "      <td>-0.803212</td>\n",
       "      <td>1.176466</td>\n",
       "      <td>0.441052</td>\n",
       "      <td>-0.983048</td>\n",
       "    </tr>\n",
       "    <tr>\n",
       "      <th>504</th>\n",
       "      <td>-0.407764</td>\n",
       "      <td>-0.487722</td>\n",
       "      <td>0.115738</td>\n",
       "      <td>-0.272599</td>\n",
       "      <td>0.158124</td>\n",
       "      <td>0.725672</td>\n",
       "      <td>0.736996</td>\n",
       "      <td>-0.668437</td>\n",
       "      <td>-0.982843</td>\n",
       "      <td>-0.803212</td>\n",
       "      <td>1.176466</td>\n",
       "      <td>0.403225</td>\n",
       "      <td>-0.865302</td>\n",
       "    </tr>\n",
       "    <tr>\n",
       "      <th>505</th>\n",
       "      <td>-0.415000</td>\n",
       "      <td>-0.487722</td>\n",
       "      <td>0.115738</td>\n",
       "      <td>-0.272599</td>\n",
       "      <td>0.158124</td>\n",
       "      <td>-0.362767</td>\n",
       "      <td>0.434732</td>\n",
       "      <td>-0.613246</td>\n",
       "      <td>-0.982843</td>\n",
       "      <td>-0.803212</td>\n",
       "      <td>1.176466</td>\n",
       "      <td>0.441052</td>\n",
       "      <td>-0.669058</td>\n",
       "    </tr>\n",
       "  </tbody>\n",
       "</table>\n",
       "<p>506 rows × 13 columns</p>\n",
       "</div>"
      ],
      "text/plain": [
       "         CRIM        ZN     INDUS      CHAS       NOX        RM       AGE  \\\n",
       "0   -0.419782  0.284830 -1.287909 -0.272599 -0.144217  0.413672 -0.120013   \n",
       "1   -0.417339 -0.487722 -0.593381 -0.272599 -0.740262  0.194274  0.367166   \n",
       "2   -0.417342 -0.487722 -0.593381 -0.272599 -0.740262  1.282714 -0.265812   \n",
       "3   -0.416750 -0.487722 -1.306878 -0.272599 -0.835284  1.016303 -0.809889   \n",
       "4   -0.412482 -0.487722 -1.306878 -0.272599 -0.835284  1.228577 -0.511180   \n",
       "..        ...       ...       ...       ...       ...       ...       ...   \n",
       "501 -0.413229 -0.487722  0.115738 -0.272599  0.158124  0.439316  0.018673   \n",
       "502 -0.415249 -0.487722  0.115738 -0.272599  0.158124 -0.234548  0.288933   \n",
       "503 -0.413447 -0.487722  0.115738 -0.272599  0.158124  0.984960  0.797449   \n",
       "504 -0.407764 -0.487722  0.115738 -0.272599  0.158124  0.725672  0.736996   \n",
       "505 -0.415000 -0.487722  0.115738 -0.272599  0.158124 -0.362767  0.434732   \n",
       "\n",
       "          DIS       RAD       TAX   PTRATIO         B     LSTAT  \n",
       "0    0.140214 -0.982843 -0.666608 -1.459000  0.441052 -1.075562  \n",
       "1    0.557160 -0.867883 -0.987329 -0.303094  0.441052 -0.492439  \n",
       "2    0.557160 -0.867883 -0.987329 -0.303094  0.396427 -1.208727  \n",
       "3    1.077737 -0.752922 -1.106115  0.113032  0.416163 -1.361517  \n",
       "4    1.077737 -0.752922 -1.106115  0.113032  0.441052 -1.026501  \n",
       "..        ...       ...       ...       ...       ...       ...  \n",
       "501 -0.625796 -0.982843 -0.803212  1.176466  0.387217 -0.418147  \n",
       "502 -0.716639 -0.982843 -0.803212  1.176466  0.441052 -0.500850  \n",
       "503 -0.773684 -0.982843 -0.803212  1.176466  0.441052 -0.983048  \n",
       "504 -0.668437 -0.982843 -0.803212  1.176466  0.403225 -0.865302  \n",
       "505 -0.613246 -0.982843 -0.803212  1.176466  0.441052 -0.669058  \n",
       "\n",
       "[506 rows x 13 columns]"
      ]
     },
     "execution_count": 12,
     "metadata": {},
     "output_type": "execute_result"
    }
   ],
   "source": [
    "Xscaled_df"
   ]
  },
  {
   "cell_type": "code",
   "execution_count": 13,
   "metadata": {},
   "outputs": [
    {
     "data": {
      "image/png": "[encoded data removed]",
      "text/plain": [
       "<Figure size 720x360 with 2 Axes>"
      ]
     },
     "metadata": {
      "needs_background": "light"
     },
     "output_type": "display_data"
    }
   ],
   "source": [
    "import seaborn as sns\n",
    "\n",
    "f, (ax1, ax2) = plt.subplots(1, 2, figsize=(10, 5), sharey=False)\n",
    "ax1.set_title('before scale')\n",
    "ax1.hist(X['AGE'])\n",
    "ax2.set_title('after scale')\n",
    "ax2.hist(Xscaled_df['AGE']);\n",
    "\n",
    "\n",
    "\n",
    "plt.show()"
   ]
  },
  {
   "cell_type": "code",
   "execution_count": 14,
   "metadata": {},
   "outputs": [
    {
     "data": {
      "image/png": "[encoded data removed]",
      "text/plain": [
       "<Figure size 360x360 with 1 Axes>"
      ]
     },
     "metadata": {
      "needs_background": "light"
     },
     "output_type": "display_data"
    },
    {
     "data": {
      "image/png": "[encoded data removed]",
      "text/plain": [
       "<Figure size 360x360 with 1 Axes>"
      ]
     },
     "metadata": {
      "needs_background": "light"
     },
     "output_type": "display_data"
    }
   ],
   "source": [
    "plt.figure(figsize=(5,5))\n",
    "sns.distplot(X['AGE'],kde=False,norm_hist=False)\n",
    "plt.show();\n",
    "\n",
    "plt.figure(figsize=(5,5))\n",
    "sns.distplot(Xscaled_df['AGE'],kde=False,norm_hist=False)\n",
    "plt.show();\n"
   ]
  },
  {
   "cell_type": "code",
   "execution_count": 15,
   "metadata": {},
   "outputs": [
    {
     "data": {
      "text/plain": [
       "(68.57490118577076, 790.7924728163227)"
      ]
     },
     "execution_count": 15,
     "metadata": {},
     "output_type": "execute_result"
    }
   ],
   "source": [
    "np.mean(X['AGE']),np.var(X['AGE'])"
   ]
  },
  {
   "cell_type": "code",
   "execution_count": 16,
   "metadata": {},
   "outputs": [
    {
     "data": {
      "text/plain": [
       "(-1.1374300710784212e-15, 0.9999999999999988)"
      ]
     },
     "execution_count": 16,
     "metadata": {},
     "output_type": "execute_result"
    }
   ],
   "source": [
    "np.mean(Xscaled_df['AGE']),np.var(Xscaled_df['AGE'])"
   ]
  },
  {
   "cell_type": "code",
   "execution_count": 17,
   "metadata": {},
   "outputs": [
    {
     "name": "stdout",
     "output_type": "stream",
     "text": [
      "[0.76341744 0.64681426 0.79214772 0.65075105 0.73525883]\n",
      "baseline r2 score =   0.7176778617934925\n"
     ]
    }
   ],
   "source": [
    "regression = LinearRegression()\n",
    "\n",
    "crossvalidation = KFold(n_splits=5, shuffle=True, random_state=1)\n",
    "\n",
    "list_of_r2= cross_val_score(regression, Xscaled, y, scoring='r2', cv=crossvalidation)\n",
    "print(list_of_r2)\n",
    "\n",
    "baseline = np.mean(list_of_r2)\n",
    "print('baseline r2 score =  ' , baseline)"
   ]
  },
  {
   "cell_type": "markdown",
   "metadata": {},
   "source": [
    "## Include interactions\n",
    "\n",
    "Look at all the possible combinations of variables for interactions by adding interactions one by one to the baseline model. Next, evaluate that model using 5-fold cross-validation and store the $R^2$ to compare it with the baseline model.\n",
    "\n",
    "Print the 7 most important interactions."
   ]
  },
  {
   "cell_type": "code",
   "execution_count": 18,
   "metadata": {},
   "outputs": [
    {
     "data": {
      "text/plain": [
       "(78, 78.0)"
      ]
     },
     "execution_count": 18,
     "metadata": {},
     "output_type": "execute_result"
    }
   ],
   "source": [
    "# create list of all possible interactions:\n",
    "import itertools\n",
    "all_interactions=list(itertools.combinations(Xscaled_df.columns,2))\n",
    "len(all_interactions),13*12/2"
   ]
  },
  {
   "cell_type": "code",
   "execution_count": 19,
   "metadata": {},
   "outputs": [
    {
     "data": {
      "text/plain": [
       "(('CRIM', 'CHAS'), 'CRIM', 'CHAS')"
      ]
     },
     "execution_count": 19,
     "metadata": {},
     "output_type": "execute_result"
    }
   ],
   "source": [
    "all_interactions[2], all_interactions[2][0], all_interactions[2][1]"
   ]
  },
  {
   "cell_type": "code",
   "execution_count": 20,
   "metadata": {},
   "outputs": [
    {
     "name": "stdout",
     "output_type": "stream",
     "text": [
      "42 78\n",
      "[('RM', 'LSTAT', 0.783), ('RM', 'TAX', 0.775), ('RM', 'RAD', 0.77), ('RM', 'PTRATIO', 0.764), ('INDUS', 'RM', 0.757), ('NOX', 'RM', 0.746), ('RM', 'AGE', 0.742)]\n",
      "Top 7 interactions: [('RM', 'LSTAT', 0.783), ('RM', 'TAX', 0.775), ('RM', 'RAD', 0.77), ('RM', 'PTRATIO', 0.764), ('INDUS', 'RM', 0.757), ('NOX', 'RM', 0.746), ('RM', 'AGE', 0.742)]\n"
     ]
    }
   ],
   "source": [
    "# for each interaction, add the product variable and fit a model to the data \n",
    "interactions=[]\n",
    "for comb in all_interactions:\n",
    "    data=Xscaled_df.copy()\n",
    "    data['interaction'] = data[comb[0]]*data[comb[1]]\n",
    "    score = np.mean(cross_val_score(regression, data, y, scoring='r2', cv=crossvalidation))\n",
    "    if score > baseline: interactions.append((comb[0], comb[1], round(score, 3)))\n",
    "print(len(interactions),len(all_interactions))\n",
    "interactions_sorted = sorted(interactions, key=lambda inter: inter[2], reverse=True)\n",
    "print(interactions_sorted[:7])\n",
    "print('Top 7 interactions: %s' %interactions_sorted[:7])           "
   ]
  },
  {
   "cell_type": "markdown",
   "metadata": {},
   "source": [
    "Write code to include the 7 most important interactions in your data set by adding 7 columns. Name the columns \"var1_var2\" with var1 and var2 the two variables in the interaction."
   ]
  },
  {
   "cell_type": "code",
   "execution_count": 21,
   "metadata": {},
   "outputs": [
    {
     "name": "stdout",
     "output_type": "stream",
     "text": [
      "(506, 13) Index(['CRIM', 'ZN', 'INDUS', 'CHAS', 'NOX', 'RM', 'AGE', 'DIS', 'RAD', 'TAX',\n",
      "       'PTRATIO', 'B', 'LSTAT'],\n",
      "      dtype='object')\n",
      "(506, 20) Index(['CRIM', 'ZN', 'INDUS', 'CHAS', 'NOX', 'RM', 'AGE', 'DIS', 'RAD', 'TAX',\n",
      "       'PTRATIO', 'B', 'LSTAT', 'RM_LSTAT', 'RM_TAX', 'RM_RAD', 'RM_PTRATIO',\n",
      "       'INDUS_RM', 'NOX_RM', 'RM_AGE'],\n",
      "      dtype='object')\n"
     ]
    }
   ],
   "source": [
    "data=Xscaled_df.copy()\n",
    "print(data.shape, data.columns)\n",
    "for combo in interactions_sorted[:7]:\n",
    "    colname=combo[0]+'_'+combo[1]\n",
    "    data[colname] = data[combo[0]]*data[combo[1]]\n",
    "print(data.shape, data.columns)"
   ]
  },
  {
   "cell_type": "markdown",
   "metadata": {},
   "source": [
    "## Include polynomials"
   ]
  },
  {
   "cell_type": "markdown",
   "metadata": {},
   "source": [
    "Try polynomials of degrees 2, 3, and 4 for each variable, in a similar way you did for interactions (by looking at your baseline model and seeing how $R^2$ increases). Do understand that when going for a polynomial of 4, the particular column is raised to the power of 2 and 3 as well in other terms. We only want to include \"pure\" polynomials, so make sure no interactions are included. We want the result to return a list that contain tuples of the form:\n",
    "\n",
    "`(var_name, degree, R2)`, so eg. `('DIS', 3, 0.732)` "
   ]
  },
  {
   "cell_type": "code",
   "execution_count": 22,
   "metadata": {},
   "outputs": [
    {
     "name": "stdout",
     "output_type": "stream",
     "text": [
      "[('RM', 4, 0.8), ('LSTAT', 4, 0.782), ('DIS', 3, 0.737), ('TAX', 4, 0.724), ('ZN', 3, 0.723), ('INDUS', 3, 0.723), ('AGE', 3, 0.722), ('NOX', 4, 0.721), ('PTRATIO', 2, 0.721), ('RAD', 4, 0.72)]\n"
     ]
    }
   ],
   "source": [
    "from sklearn.preprocessing import PolynomialFeatures\n",
    "polydf=Xscaled_df.copy()\n",
    "\n",
    "good_poly_list=[]\n",
    "\n",
    "# Need to loop on variables\n",
    "for col in Xscaled_df.columns:\n",
    "# Need to loop on degrees also\n",
    "    old_score=0\n",
    "    good_deg_list=[]\n",
    "    for deg in [2,3,4]:\n",
    "        # create power of variable 'col'\n",
    "        poly = PolynomialFeatures(degree=deg,interaction_only=False,include_bias=False)   \n",
    "        XX=pd.DataFrame(poly.fit_transform(Xscaled_df[[col]]),columns=poly.get_feature_names())\n",
    "        # concat XX containing powers of variable 'col' with polydf (after having removed 'col' from data)\n",
    "        polydf_drop=polydf.drop(col,axis = 1)\n",
    "        XXX = pd.concat([XX,polydf_drop],axis=1)\n",
    "        score = np.mean(cross_val_score(regression, XXX, y, scoring='r2', cv=crossvalidation))\n",
    "        if score > old_score: good_deg_list= (col, deg, round(score, 3))\n",
    "        old_score=score\n",
    "        #good_deg_list last item contains the winning deg and score for the current col\n",
    "        \n",
    "    if good_deg_list[2] > baseline: good_poly_list.append(good_deg_list)\n",
    "\n",
    "good_poly_list_sorted=sorted(good_poly_list,key = lambda pol: pol[2],reverse=True)\n",
    "print(good_poly_list_sorted[:10])\n",
    "\n",
    "# good_poly_list_sorted=sorted(good_poly_list,key = lambda pol: pol[2],reverse=True)\n",
    "# print(good_poly_list,good_poly_list_sorted)\n",
    "\n",
    "    \n",
    "#         score = np.mean(cross_val_score(regression, data, y, scoring='r2', cv=crossvalidation))\n",
    "#     if score > baseline: interactions.append((comb[0], comb[1], round(score, 3)))\n",
    "# print(len(interactions),len(all_interactions))\n",
    "# interactions_sorted = sorted(interactions, key=lambda inter: inter[2], reverse=True)\n",
    "# print(interactions_sorted[:7])\n",
    "# print('Top 7 interactions: %s' %interactions_sorted[:7])           "
   ]
  },
  {
   "cell_type": "markdown",
   "metadata": {},
   "source": [
    "For each variable, print out the maximum R2 possible when including Polynomials."
   ]
  },
  {
   "cell_type": "code",
   "execution_count": 23,
   "metadata": {},
   "outputs": [],
   "source": [
    "# Already done. See above."
   ]
  },
  {
   "cell_type": "markdown",
   "metadata": {},
   "source": [
    "Which two variables seem to benefit most from adding polynomial terms?"
   ]
  },
  {
   "cell_type": "code",
   "execution_count": 24,
   "metadata": {},
   "outputs": [
    {
     "name": "stdout",
     "output_type": "stream",
     "text": [
      "[('RM', 4, 0.8), ('LSTAT', 4, 0.782)]\n"
     ]
    }
   ],
   "source": [
    "print(good_poly_list_sorted[:2])"
   ]
  },
  {
   "cell_type": "markdown",
   "metadata": {},
   "source": [
    "Add Polynomials for the two features that seem to benefit the most, as in have the best R squared compared to the baseline model. For each of the two features, raise to the Polynomial that generates the best result. Make sure to start from the data set `df_inter` so the final data set has both interactions and polynomials in the model."
   ]
  },
  {
   "cell_type": "code",
   "execution_count": 25,
   "metadata": {},
   "outputs": [
    {
     "name": "stdout",
     "output_type": "stream",
     "text": [
      "Index(['CRIM', 'ZN', 'INDUS', 'CHAS', 'NOX', 'RM', 'AGE', 'DIS', 'RAD', 'TAX',\n",
      "       'PTRATIO', 'B', 'LSTAT', 'RM_LSTAT', 'RM_TAX', 'RM_RAD', 'RM_PTRATIO',\n",
      "       'INDUS_RM', 'NOX_RM', 'RM_AGE'],\n",
      "      dtype='object') (506, 20)\n",
      "Index(['LSTAT^1', 'LSTAT^2', 'LSTAT^3', 'LSTAT^4', 'RM^1', 'RM^2', 'RM^3',\n",
      "       'RM^4', 'CRIM', 'ZN', 'INDUS', 'CHAS', 'NOX', 'AGE', 'DIS', 'RAD',\n",
      "       'TAX', 'PTRATIO', 'B', 'RM_LSTAT', 'RM_TAX', 'RM_RAD', 'RM_PTRATIO',\n",
      "       'INDUS_RM', 'NOX_RM', 'RM_AGE'],\n",
      "      dtype='object') (506, 26)\n"
     ]
    }
   ],
   "source": [
    "df_inter = data\n",
    "print(df_inter.columns,df_inter.shape)\n",
    "\n",
    "columns=[]\n",
    "for i in range(deg):\n",
    "    columns.append( str(col+'^'+str(i+1)) )\n",
    "\n",
    "df_inter_poly=df_inter  \n",
    "for col,deg,score in good_poly_list_sorted[:2]:\n",
    "    columns=[]\n",
    "    for i in range(deg):\n",
    "        columns.append( str(col+'^'+str(i+1)) )\n",
    "    poly = PolynomialFeatures(degree=deg,interaction_only=False,include_bias=False)   \n",
    "    XX=pd.DataFrame(poly.fit_transform(  df_inter[[col]]), columns=columns)\n",
    "    # concat XX containing powers of variable 'col' with df_inter (after having removed 'col')\n",
    "    df_inter_drop = df_inter_poly.drop(col,axis = 1)\n",
    "    df_inter_poly  = pd.concat([XX,df_inter_drop],axis=1)\n",
    "\n",
    "print(df_inter_poly.columns,df_inter_poly.shape)\n",
    "\n"
   ]
  },
  {
   "cell_type": "markdown",
   "metadata": {},
   "source": [
    "Check out your final data set and make sure that your interaction terms as well as your polynomial terms are included."
   ]
  },
  {
   "cell_type": "code",
   "execution_count": 26,
   "metadata": {},
   "outputs": [
    {
     "name": "stdout",
     "output_type": "stream",
     "text": [
      "      LSTAT^1   LSTAT^2   LSTAT^3   LSTAT^4      RM^1      RM^2      RM^3  \\\n",
      "0   -1.075562  1.156834 -1.244247  1.338266  0.413672  0.171124  0.070789   \n",
      "1   -0.492439  0.242497 -0.119415  0.058805  0.194274  0.037743  0.007332   \n",
      "2   -1.208727  1.461022 -1.765977  2.134585  1.282714  1.645354  2.110519   \n",
      "3   -1.361517  1.853728 -2.523882  3.436308  1.016303  1.032871  1.049709   \n",
      "4   -1.026501  1.053705 -1.081630  1.110295  1.228577  1.509401  1.854414   \n",
      "..        ...       ...       ...       ...       ...       ...       ...   \n",
      "501 -0.418147  0.174847 -0.073112  0.030572  0.439316  0.192998  0.084787   \n",
      "502 -0.500850  0.250851 -0.125638  0.062926 -0.234548  0.055013 -0.012903   \n",
      "503 -0.983048  0.966383 -0.950000  0.933895  0.984960  0.970146  0.955555   \n",
      "504 -0.865302  0.748747 -0.647892  0.560622  0.725672  0.526600  0.382139   \n",
      "505 -0.669058  0.447639 -0.299497  0.200381 -0.362767  0.131600 -0.047740   \n",
      "\n",
      "         RM^4      CRIM        ZN  ...       TAX   PTRATIO         B  \\\n",
      "0    0.029284 -0.419782  0.284830  ... -0.666608 -1.459000  0.441052   \n",
      "1    0.001425 -0.417339 -0.487722  ... -0.987329 -0.303094  0.441052   \n",
      "2    2.707191 -0.417342 -0.487722  ... -0.987329 -0.303094  0.396427   \n",
      "3    1.066822 -0.416750 -0.487722  ... -1.106115  0.113032  0.416163   \n",
      "4    2.278290 -0.412482 -0.487722  ... -1.106115  0.113032  0.441052   \n",
      "..        ...       ...       ...  ...       ...       ...       ...   \n",
      "501  0.037248 -0.413229 -0.487722  ... -0.803212  1.176466  0.387217   \n",
      "502  0.003026 -0.415249 -0.487722  ... -0.803212  1.176466  0.441052   \n",
      "503  0.941184 -0.413447 -0.487722  ... -0.803212  1.176466  0.441052   \n",
      "504  0.277308 -0.407764 -0.487722  ... -0.803212  1.176466  0.403225   \n",
      "505  0.017319 -0.415000 -0.487722  ... -0.803212  1.176466  0.441052   \n",
      "\n",
      "     RM_LSTAT    RM_TAX    RM_RAD  RM_PTRATIO  INDUS_RM    NOX_RM    RM_AGE  \n",
      "0   -0.444930 -0.275757 -0.406574   -0.603547 -0.532772 -0.059659 -0.049646  \n",
      "1   -0.095668 -0.191813 -0.168607   -0.058883 -0.115279 -0.143814  0.071331  \n",
      "2   -1.550451 -1.266461 -1.113245   -0.388783 -0.761138 -0.949544 -0.340960  \n",
      "3   -1.383713 -1.124148 -0.765197    0.114875 -1.328183 -0.848901 -0.823092  \n",
      "4   -1.261136 -1.358947 -0.925023    0.138869 -1.605599 -1.026210 -0.628023  \n",
      "..        ...       ...       ...         ...       ...       ...       ...  \n",
      "501 -0.183699 -0.352864 -0.431778    0.516840  0.050846  0.069466  0.008203  \n",
      "502  0.117473  0.188392  0.230524   -0.275937 -0.027146 -0.037088 -0.067769  \n",
      "503 -0.968263 -0.791131 -0.968061    1.158772  0.113998  0.155746  0.785456  \n",
      "504 -0.627925 -0.582868 -0.713222    0.853728  0.083988  0.114746  0.534818  \n",
      "505  0.242712  0.291379  0.356543   -0.426783 -0.041986 -0.057362 -0.157706  \n",
      "\n",
      "[506 rows x 26 columns]\n"
     ]
    }
   ],
   "source": [
    "print(df_inter_poly)\n"
   ]
  },
  {
   "cell_type": "markdown",
   "metadata": {},
   "source": [
    "## Full model R-squared"
   ]
  },
  {
   "cell_type": "markdown",
   "metadata": {},
   "source": [
    "Check out the R-squared of the full model."
   ]
  },
  {
   "cell_type": "code",
   "execution_count": 27,
   "metadata": {},
   "outputs": [],
   "source": [
    "# Your code here\n",
    "score = np.mean(cross_val_score(regression, df_inter_poly, y, scoring='r2', cv=crossvalidation))\n"
   ]
  },
  {
   "cell_type": "code",
   "execution_count": 28,
   "metadata": {},
   "outputs": [
    {
     "data": {
      "text/plain": [
       "0.8061549447223175"
      ]
     },
     "execution_count": 28,
     "metadata": {},
     "output_type": "execute_result"
    }
   ],
   "source": [
    "score"
   ]
  },
  {
   "cell_type": "markdown",
   "metadata": {},
   "source": [
    "## Find the best Lasso regularization parameter"
   ]
  },
  {
   "cell_type": "markdown",
   "metadata": {},
   "source": [
    "You learned that when using Lasso regularization, your coefficients shrink to 0 when using a higher regularization parameter. Now the question is which value we should choose for the regularization parameter. \n",
    "\n",
    "This is where the AIC and BIC come in handy! We'll use both criteria in what follows and perform cross-validation to select an optimal value of the regularization parameter $alpha$ of the Lasso estimator.\n",
    "\n",
    "Read the page here: https://scikit-learn.org/stable/auto_examples/linear_model/plot_lasso_model_selection.html and create a similar plot as the first one listed on the page. "
   ]
  },
  {
   "cell_type": "code",
   "execution_count": 29,
   "metadata": {},
   "outputs": [],
   "source": [
    "import numpy as np\n",
    "import matplotlib.pyplot as plt\n",
    "\n",
    "from sklearn.linear_model import LassoCV, LassoLarsCV, LassoLarsIC"
   ]
  },
  {
   "cell_type": "code",
   "execution_count": 31,
   "metadata": {},
   "outputs": [
    {
     "name": "stdout",
     "output_type": "stream",
     "text": [
      "0.04360488110715282 1.3604648933174035\n",
      "0.0033914594891419963 2.4696133661994795\n"
     ]
    },
    {
     "data": {
      "image/png": "[encoded data removed]",
      "text/plain": [
       "<Figure size 432x288 with 1 Axes>"
      ]
     },
     "metadata": {
      "needs_background": "light"
     },
     "output_type": "display_data"
    }
   ],
   "source": [
    "# Your code here \n",
    "model_bic = LassoLarsIC(criterion='bic')\n",
    "model_bic.fit(df_inter_poly, y)\n",
    "alpha_bic_ = model_bic.alpha_\n",
    "print(alpha_bic_,-np.log10(alpha_bic_))\n",
    "\n",
    "model_aic = LassoLarsIC(criterion='aic')\n",
    "model_aic.fit(df_inter_poly, y)\n",
    "alpha_aic_ = model_aic.alpha_\n",
    "print(alpha_aic_,-np.log10(alpha_aic_))\n",
    "\n",
    "\n",
    "def plot_ic_criterion(model, name, color):\n",
    "    alpha_ = model.alpha_\n",
    "    alphas_ = model.alphas_\n",
    "    criterion_ = model.criterion_\n",
    "    plt.plot(-np.log10(alphas_), criterion_, '--', color=color, linewidth=2, label= name)\n",
    "    plt.axvline(-np.log10(alpha_), color=color, linewidth=2,\n",
    "                label='alpha for %s ' % name)\n",
    "    plt.xlabel('-log(alpha)')\n",
    "    plt.ylabel('criterion')\n",
    "\n",
    "plt.figure()\n",
    "plot_ic_criterion(model_aic, 'AIC', 'green')\n",
    "plot_ic_criterion(model_bic, 'BIC', 'blue')\n",
    "plt.legend()\n",
    "plt.title('Information-criterion for model selection');"
   ]
  },
  {
   "cell_type": "markdown",
   "metadata": {},
   "source": [
    "## Analyze the final result\n",
    "\n",
    "Finally, use the best value for the regularization parameter according to AIC and BIC, and compare R-squared and MSE using train-test split. Compare with the baseline model."
   ]
  },
  {
   "cell_type": "code",
   "execution_count": 32,
   "metadata": {},
   "outputs": [],
   "source": [
    "from sklearn.metrics import mean_squared_error, mean_squared_log_error\n",
    "from sklearn.model_selection import train_test_split\n",
    "from sklearn.linear_model import Lasso"
   ]
  },
  {
   "cell_type": "code",
   "execution_count": 37,
   "metadata": {},
   "outputs": [
    {
     "name": "stdout",
     "output_type": "stream",
     "text": [
      "train_mse =  21.862794714879602\n",
      "test_mse =  23.380836480270247\n",
      "r2 train =  0.7293585058196337\n",
      "r2 test =  0.763417443213847\n"
     ]
    }
   ],
   "source": [
    "# Split X_scaled and y into training and test sets\n",
    "# Set random_state to 1\n",
    "X_train, X_test, y_train, y_test = train_test_split(Xscaled,y,test_size=.2,random_state = 1)\n",
    "\n",
    "# Code for baseline model\n",
    "linreg_all = LinearRegression()\n",
    "linreg_all.fit(X_train, y_train)\n",
    "\n",
    "y_hat_train = linreg_all.predict(X_train) \n",
    "y_hat_test = linreg_all.predict(X_test) \n",
    "\n",
    "# Print R2 and MSE\n",
    "print('train_mse = ', mean_squared_error(y_train,y_hat_train))\n",
    "print('test_mse = ', mean_squared_error(y_test,y_hat_test))\n",
    "print('r2 train = ', linreg_all.score(X_train,y_train))\n",
    "print('r2 test = ', linreg_all.score(X_test,y_test))\n"
   ]
  },
  {
   "cell_type": "code",
   "execution_count": 38,
   "metadata": {},
   "outputs": [
    {
     "name": "stdout",
     "output_type": "stream",
     "text": [
      "train_mse =  13.05686714818842\n",
      "test_mse =  15.355690018227557\n",
      "r2 train =  0.838367871976805\n",
      "r2 test =  0.8446211105922805\n"
     ]
    }
   ],
   "source": [
    "# Split df_inter_poly and y into training and test sets\n",
    "# Set random_state to 1\n",
    "X_train, X_test, y_train, y_test = train_test_split(df_inter_poly,y,test_size=.2,random_state = 1)\n",
    "\n",
    "# Code for model without regularization but with interactions and ploynamial features\n",
    "linreg_all2 = LinearRegression()\n",
    "linreg_all2.fit(X_train, y_train)\n",
    "\n",
    "y_hat_train = linreg_all2.predict(X_train) \n",
    "y_hat_test = linreg_all2.predict(X_test) \n",
    "\n",
    "# Print R2 and MSE\n",
    "print('train_mse = ', mean_squared_error(y_train,y_hat_train))\n",
    "print('test_mse = ', mean_squared_error(y_test,y_hat_test))\n",
    "print('r2 train = ', linreg_all2.score(X_train,y_train))\n",
    "print('r2 test = ', linreg_all2.score(X_test,y_test))\n",
    "\n"
   ]
  },
  {
   "cell_type": "code",
   "execution_count": 40,
   "metadata": {},
   "outputs": [
    {
     "name": "stdout",
     "output_type": "stream",
     "text": [
      "train_mse =  13.058367535998586\n",
      "test_mse =  15.261800819694706\n",
      "r2 train =  0.8383492985417026\n",
      "r2 test =  0.8455711427548274\n"
     ]
    }
   ],
   "source": [
    "\n",
    "# Code for lasso with alpha from AIC\n",
    "lasso = Lasso(alpha=alpha_aic_)\n",
    "lasso.fit(X_train,y_train)\n",
    "\n",
    "y_hat_train = lasso.predict(X_train) \n",
    "y_hat_test = lasso.predict(X_test) \n",
    "\n",
    "# Print R2 and MSE\n",
    "print('train_mse = ', mean_squared_error(y_train,y_hat_train))\n",
    "print('test_mse = ', mean_squared_error(y_test,y_hat_test))\n",
    "print('r2 train = ', lasso.score(X_train,y_train))\n",
    "print('r2 test = ', lasso.score(X_test,y_test))\n",
    "\n"
   ]
  },
  {
   "cell_type": "code",
   "execution_count": 41,
   "metadata": {},
   "outputs": [
    {
     "name": "stdout",
     "output_type": "stream",
     "text": [
      "train_mse =  13.290224327514425\n",
      "test_mse =  14.515768088359435\n",
      "r2 train =  0.8354791225504783\n",
      "r2 test =  0.8531199886301403\n"
     ]
    }
   ],
   "source": [
    "# Code for lasso with alpha from BIC\n",
    "\n",
    "lasso = Lasso(alpha=alpha_bic_)\n",
    "lasso.fit(X_train,y_train)\n",
    "\n",
    "y_hat_train = lasso.predict(X_train) \n",
    "y_hat_test = lasso.predict(X_test) \n",
    "\n",
    "# Print R2 and MSE\n",
    "print('train_mse = ', mean_squared_error(y_train,y_hat_train))\n",
    "print('test_mse = ', mean_squared_error(y_test,y_hat_test))\n",
    "print('r2 train = ', lasso.score(X_train,y_train))\n",
    "print('r2 test = ', lasso.score(X_test,y_test))\n"
   ]
  },
  {
   "cell_type": "code",
   "execution_count": 45,
   "metadata": {},
   "outputs": [
    {
     "name": "stdout",
     "output_type": "stream",
     "text": [
      "train_mse =  59.60140616533453\n",
      "test_mse =  56.99006515076677\n",
      "r2 train =  0.2621888541605937\n",
      "r2 test =  0.4233373414096946\n"
     ]
    }
   ],
   "source": [
    "# Code for lasso with BIG alpha\n",
    "# ie. a lot of regularization => underfitting => bad r2 and big MSE error\n",
    "\n",
    "lasso = Lasso(alpha=10)\n",
    "lasso.fit(X_train,y_train)\n",
    "\n",
    "y_hat_train = lasso.predict(X_train) \n",
    "y_hat_test = lasso.predict(X_test) \n",
    "\n",
    "# Print R2 and MSE\n",
    "print('train_mse = ', mean_squared_error(y_train,y_hat_train))\n",
    "print('test_mse = ', mean_squared_error(y_test,y_hat_test))\n",
    "print('r2 train = ', lasso.score(X_train,y_train))\n",
    "print('r2 test = ', lasso.score(X_test,y_test))\n"
   ]
  },
  {
   "cell_type": "code",
   "execution_count": 49,
   "metadata": {},
   "outputs": [
    {
     "name": "stdout",
     "output_type": "stream",
     "text": [
      "train_mse =  13.05686716122993\n",
      "test_mse =  15.355406968524662\n",
      "r2 train =  0.8383678718153629\n",
      "r2 test =  0.8446239746738314\n"
     ]
    }
   ],
   "source": [
    "# Code for lasso with VERY SMALL  alpha\n",
    "# ie. NO regularization => overfitting => small r2 and small MSE error for train set only\n",
    "# we find almost the same results as with Linear Regression (without regularization - linreg_all2)\n",
    "lasso = Lasso(alpha=0.00001)\n",
    "lasso.fit(X_train,y_train)\n",
    "\n",
    "y_hat_train = lasso.predict(X_train) \n",
    "y_hat_test = lasso.predict(X_test) \n",
    "\n",
    "# Print R2 and MSE\n",
    "print('train_mse = ', mean_squared_error(y_train,y_hat_train))\n",
    "print('test_mse = ', mean_squared_error(y_test,y_hat_test))\n",
    "print('r2 train = ', lasso.score(X_train,y_train))\n",
    "print('r2 test = ', lasso.score(X_test,y_test))\n"
   ]
  },
  {
   "cell_type": "markdown",
   "metadata": {},
   "source": [
    "## Level up (Optional)"
   ]
  },
  {
   "cell_type": "markdown",
   "metadata": {},
   "source": [
    "### Create a Lasso path\n",
    "\n",
    "From this section, you know that when using lasso, more parameters shrink to zero as your regularization parameter goes up. In Scikit-learn there is a function `lasso_path()` which visualizes the shrinkage of the coefficients while $alpha$ changes. Try this out yourself!\n",
    "\n",
    "https://scikit-learn.org/stable/auto_examples/linear_model/plot_lasso_coordinate_descent_path.html#sphx-glr-auto-examples-linear-model-plot-lasso-coordinate-descent-path-py"
   ]
  },
  {
   "cell_type": "markdown",
   "metadata": {},
   "source": [
    "### AIC and BIC for subset selection\n",
    "This notebook shows how you can use AIC and BIC purely for feature selection. Try this code out on our Boston housing data!"
   ]
  },
  {
   "cell_type": "markdown",
   "metadata": {},
   "source": [
    "https://xavierbourretsicotte.github.io/subset_selection.html"
   ]
  },
  {
   "cell_type": "markdown",
   "metadata": {},
   "source": [
    "## Summary"
   ]
  },
  {
   "cell_type": "markdown",
   "metadata": {},
   "source": [
    "Congratulations! You now know how to create better linear models and how to use AIC and BIC for both feature selection and to optimize your regularization parameter when performing Ridge and Lasso. "
   ]
  }
 ],
 "metadata": {
  "kernelspec": {
   "display_name": "Python 3",
   "language": "python",
   "name": "python3"
  },
  "language_info": {
   "codemirror_mode": {
    "name": "ipython",
    "version": 3
   },
   "file_extension": ".py",
   "mimetype": "text/x-python",
   "name": "python",
   "nbconvert_exporter": "python",
   "pygments_lexer": "ipython3",
   "version": "3.6.9"
  }
 },
 "nbformat": 4,
 "nbformat_minor": 2
}
